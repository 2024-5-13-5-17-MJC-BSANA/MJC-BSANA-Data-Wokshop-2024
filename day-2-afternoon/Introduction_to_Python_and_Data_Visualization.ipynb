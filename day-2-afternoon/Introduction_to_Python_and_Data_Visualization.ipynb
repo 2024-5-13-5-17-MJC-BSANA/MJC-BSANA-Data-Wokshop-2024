{
  "nbformat": 4,
  "nbformat_minor": 0,
  "metadata": {
    "colab": {
      "provenance": [],
      "authorship_tag": "ABX9TyPQtAs0pZeAZ5JDj7C7MeRv",
      "include_colab_link": true
    },
    "kernelspec": {
      "name": "python3",
      "display_name": "Python 3"
    },
    "language_info": {
      "name": "python"
    }
  },
  "cells": [
    {
      "cell_type": "markdown",
      "metadata": {
        "id": "view-in-github",
        "colab_type": "text"
      },
      "source": [
        "<a href=\"https://colab.research.google.com/github/2024-5-13-5-17-MJC-BSANA/MJC-BSANA-Data-Workshop-2024/blob/main/day-2-afternoon/Introduction_to_Python_and_Data_Visualization.ipynb\" target=\"_parent\"><img src=\"https://colab.research.google.com/assets/colab-badge.svg\" alt=\"Open In Colab\"/></a>"
      ]
    },
    {
      "cell_type": "markdown",
      "source": [
        "# Data"
      ],
      "metadata": {
        "id": "oB6-UHXhQ0Tb"
      }
    },
    {
      "cell_type": "markdown",
      "source": [
        "In python you can store data in variables. Python recognizes the data type without you specifying it, as we will see."
      ],
      "metadata": {
        "id": "Vyh-BisQQ4cr"
      }
    },
    {
      "cell_type": "markdown",
      "source": [
        "# Variables and Assignments"
      ],
      "metadata": {
        "id": "aQb226B-_oUe"
      }
    },
    {
      "cell_type": "markdown",
      "source": [
        "First, we assign values to variables"
      ],
      "metadata": {
        "id": "950kBmW79en5"
      }
    },
    {
      "cell_type": "code",
      "source": [
        "text = \"Data Carpentry\"  # An example of a string\n",
        "number = 42  # An example of an integer\n",
        "pi_value = 3.1415  # An example of a float\n"
      ],
      "metadata": {
        "id": "GJHuF15a9k1M"
      },
      "execution_count": null,
      "outputs": []
    },
    {
      "cell_type": "markdown",
      "source": [
        "Here we’ve assigned data to the variables text, number and pi_value, using the assignment operator ```=```.\n",
        "\n",
        "Now, type the name of a variable into the interpreter and press Return:\n",
        "\n"
      ],
      "metadata": {
        "id": "0IDD5bCF9_7-"
      }
    },
    {
      "cell_type": "code",
      "source": [
        "text"
      ],
      "metadata": {
        "id": "MVNH4vI59mEg"
      },
      "execution_count": null,
      "outputs": []
    },
    {
      "cell_type": "markdown",
      "source": [
        "Now, in the cell above, change to each variable name and re-run the code"
      ],
      "metadata": {
        "id": "yPAfLOpZ-Tvc"
      }
    },
    {
      "cell_type": "markdown",
      "source": [
        "# Built In Functions\n",
        "\n",
        "\n",
        "\n"
      ],
      "metadata": {
        "id": "RrGSELJU_wQ2"
      }
    },
    {
      "cell_type": "markdown",
      "source": [
        "Functions are code instructions that are executed when you call them, often on a variable. We will see two examples of functions that are built into pyhton below."
      ],
      "metadata": {
        "id": "itnPJEwh_5-8"
      }
    },
    {
      "cell_type": "markdown",
      "source": [
        "Everything in Python has a type. To get the type of something, we can pass it to the built-in function ```type()```\n",
        "\n"
      ],
      "metadata": {
        "id": "WrxfNgHU-eE7"
      }
    },
    {
      "cell_type": "code",
      "source": [
        "type(text)"
      ],
      "metadata": {
        "id": "yS6aZsFT9xI3"
      },
      "execution_count": null,
      "outputs": []
    },
    {
      "cell_type": "markdown",
      "source": [
        "The ```print()``` foucntion outputs the value of a variable. If you are running a script it is the only way to output that value.\n",
        "\n"
      ],
      "metadata": {
        "id": "EdBbw-JO-vAZ"
      }
    },
    {
      "cell_type": "code",
      "source": [
        "# A Python script file\n",
        "# Comments in Python start with #\n",
        "# The next line assigns the string \"Data Carpentry\" to the variable \"text\".\n",
        "text = \"Data Carpentry\"\n",
        "\n",
        "# The next line does nothing!\n",
        "text\n",
        "\n",
        "# The next line uses the print function to print out the value we assigned to \"text\"\n",
        "print(text)\n"
      ],
      "metadata": {
        "id": "yEOFvG7E-mMQ"
      },
      "execution_count": null,
      "outputs": []
    },
    {
      "cell_type": "code",
      "source": [],
      "metadata": {
        "id": "neb9lMmU_BAb"
      },
      "execution_count": null,
      "outputs": []
    },
    {
      "cell_type": "markdown",
      "source": [
        "You may have noticed the text after the ```#``` character. These are called *comments* and are not run by the software, but are viewable in the code itself. You should comment ALL OF THE TIME, WHEREVER POSSIBLE!"
      ],
      "metadata": {
        "id": "rOARLffB_DYp"
      }
    },
    {
      "cell_type": "markdown",
      "source": [
        "# Operators\n",
        "\n",
        "We can perform mathematical calculations in Python using the basic operators ```+, -, /, *, %```\n",
        "\n"
      ],
      "metadata": {
        "id": "OK0n4ign_ghQ"
      }
    },
    {
      "cell_type": "code",
      "source": [
        "2 + 2  # Addition\n"
      ],
      "metadata": {
        "id": "ZAHdC5sQ_DAK"
      },
      "execution_count": null,
      "outputs": []
    },
    {
      "cell_type": "code",
      "source": [
        "6 * 7  # Multiplication\n"
      ],
      "metadata": {
        "id": "RXzkIYZIAKLq"
      },
      "execution_count": null,
      "outputs": []
    },
    {
      "cell_type": "code",
      "source": [
        "2 ** 16  # Power\n"
      ],
      "metadata": {
        "id": "oYbm27krAMCF"
      },
      "execution_count": null,
      "outputs": []
    },
    {
      "cell_type": "code",
      "source": [
        "13 % 5  # Modulo\n"
      ],
      "metadata": {
        "id": "sVOXEgi5ANjz"
      },
      "execution_count": null,
      "outputs": []
    },
    {
      "cell_type": "markdown",
      "source": [
        "We can also use comparison and logic operators: ```<, >, ==, !=, <=, >=``` and statements of identity such as ```and, or, not```. The data type returned by this is called a *boolean*.\n",
        "\n"
      ],
      "metadata": {
        "id": "-s71pcGZAU6G"
      }
    },
    {
      "cell_type": "code",
      "source": [
        "3 > 4\n"
      ],
      "metadata": {
        "id": "HdN1QjhgARTg"
      },
      "execution_count": null,
      "outputs": []
    },
    {
      "cell_type": "code",
      "source": [
        "True and True\n"
      ],
      "metadata": {
        "id": "psPUFOi0Aigd"
      },
      "execution_count": null,
      "outputs": []
    },
    {
      "cell_type": "code",
      "source": [
        "True and False\n"
      ],
      "metadata": {
        "id": "Y0_jIb1iAkW1"
      },
      "execution_count": null,
      "outputs": []
    },
    {
      "cell_type": "markdown",
      "source": [
        "# Sequences: Lists"
      ],
      "metadata": {
        "id": "wcFwFPbdAqqV"
      }
    },
    {
      "cell_type": "markdown",
      "source": [
        "## Lists"
      ],
      "metadata": {
        "id": "GTxhhoinA1r4"
      }
    },
    {
      "cell_type": "markdown",
      "source": [
        "Lists are a common data structure to hold an ordered sequence of elements. Each element can be accessed by an index. Note that Python indexes start with 0 instead of 1:\n",
        "\n"
      ],
      "metadata": {
        "id": "od0uRSDKA6Jw"
      }
    },
    {
      "cell_type": "code",
      "source": [
        "numbers = [1, 2, 3]\n",
        "numbers[0]\n"
      ],
      "metadata": {
        "id": "kInYxq2lA5jf"
      },
      "execution_count": null,
      "outputs": []
    },
    {
      "cell_type": "markdown",
      "source": [
        "A for loop can be used to access the elements in a list or other Python data structure one at a time:\n",
        "\n"
      ],
      "metadata": {
        "id": "KPFFrEpTBEl4"
      }
    },
    {
      "cell_type": "code",
      "source": [
        "for num in numbers:\n",
        "    print(num)\n"
      ],
      "metadata": {
        "id": "P10CHLktA3fA"
      },
      "execution_count": null,
      "outputs": []
    },
    {
      "cell_type": "markdown",
      "source": [
        "**Indentation is very important in Python. Note that the second line in the example above is indented.**"
      ],
      "metadata": {
        "id": "0_BdYOhHBQyB"
      }
    },
    {
      "cell_type": "markdown",
      "source": [
        "To add elements to the end of a list, we can use the append method. Methods are a way to interact with an object (a list, for example). We can invoke a method using the dot . followed by the method name and a list of arguments in parentheses. Let’s look at an example using append:\n",
        "\n"
      ],
      "metadata": {
        "id": "y-1tpppnBYNx"
      }
    },
    {
      "cell_type": "code",
      "source": [
        "numbers.append(4)\n",
        "print(numbers)\n"
      ],
      "metadata": {
        "id": "VzCVOF4OBW4h"
      },
      "execution_count": null,
      "outputs": []
    },
    {
      "cell_type": "markdown",
      "source": [
        "## Dictionaries"
      ],
      "metadata": {
        "id": "6SRJ-YmgBrL5"
      }
    },
    {
      "cell_type": "markdown",
      "source": [
        "A dictionary is a container that holds pairs of objects - keys and values. You will econounter a lot of these!\n",
        "\n",
        "Dictionaries work a lot like lists - except that you index them with keys. You can think about a key as a name or unique identifier for the value it corresponds to.\n",
        "\n"
      ],
      "metadata": {
        "id": "I2y95Cb6BtH7"
      }
    },
    {
      "cell_type": "code",
      "source": [
        "translation = {'one': 'first', 'two': 'second'}\n",
        "translation['one']\n"
      ],
      "metadata": {
        "id": "0qhc6esxAmSK"
      },
      "execution_count": null,
      "outputs": []
    },
    {
      "cell_type": "code",
      "source": [
        "rev = {'first': 'one', 'second': 'two'}\n",
        "rev['first']\n"
      ],
      "metadata": {
        "id": "UlKWG5gVB0B7"
      },
      "execution_count": null,
      "outputs": []
    },
    {
      "cell_type": "markdown",
      "source": [
        "To add an item to the dictionary we assign a value to a new key:\n",
        "\n"
      ],
      "metadata": {
        "id": "KUkWo6ytCCCc"
      }
    },
    {
      "cell_type": "code",
      "source": [
        "rev = {'first': 'one', 'second': 'two'}\n",
        "rev['third'] = 'three'\n",
        "rev\n"
      ],
      "metadata": {
        "id": "WYzqYYt4B-pz"
      },
      "execution_count": null,
      "outputs": []
    },
    {
      "cell_type": "markdown",
      "source": [
        "Using for loops with dictionaries is a little more complicated. We can do this in two ways:\n",
        "\n"
      ],
      "metadata": {
        "id": "oWZzPII_Cgvz"
      }
    },
    {
      "cell_type": "code",
      "source": [
        "for key, value in rev.items():\n",
        "    print(key, '->', value)\n"
      ],
      "metadata": {
        "id": "you7kqHaCEXy"
      },
      "execution_count": null,
      "outputs": []
    },
    {
      "cell_type": "code",
      "source": [
        "for key in rev.keys():\n",
        "    print(key, '->', rev[key])\n"
      ],
      "metadata": {
        "id": "snJFK8IuCjVO"
      },
      "execution_count": null,
      "outputs": []
    },
    {
      "cell_type": "markdown",
      "source": [
        "# Functions"
      ],
      "metadata": {
        "id": "DLGOpG4yCvX8"
      }
    },
    {
      "cell_type": "markdown",
      "source": [
        "Defining a section of code as a function in Python is done using the def keyword. For example a function that takes two arguments and returns their sum can be defined as:\n",
        "\n"
      ],
      "metadata": {
        "id": "UFDIIjY0Cw8o"
      }
    },
    {
      "cell_type": "code",
      "source": [
        "def add_function(a, b):\n",
        "    result = a + b\n",
        "    return result\n",
        "\n",
        "z = add_function(20, 22)\n",
        "print(z)"
      ],
      "metadata": {
        "id": "wLpb4cstClu4"
      },
      "execution_count": null,
      "outputs": []
    },
    {
      "cell_type": "code",
      "source": [
        "add_function(4578, 4344)"
      ],
      "metadata": {
        "id": "roOR_9xzC1xz"
      },
      "execution_count": null,
      "outputs": []
    },
    {
      "cell_type": "markdown",
      "source": [
        "# Logic and Loops"
      ],
      "metadata": {
        "id": "I313OJ14OMBO"
      }
    },
    {
      "cell_type": "markdown",
      "source": [
        "Python supports these operators:\n",
        "\n",
        "Equals: a == b\n",
        "\n",
        "Not Equals: a != b\n",
        "\n",
        "Less than: a < b\n",
        "\n",
        "Less than or equal to: a <= b\n",
        "\n",
        "Greater than: a > b\n",
        "\n",
        "Greater than or equal to: a >= b"
      ],
      "metadata": {
        "id": "O5_o_vjuOW7p"
      }
    },
    {
      "cell_type": "markdown",
      "source": [
        "These conditions can be used in several ways, most commonly in \"if statements\" and loops.\n",
        "\n",
        "An \"if statement\" is written by using the if keyword.\n",
        "\n"
      ],
      "metadata": {
        "id": "_WFAlb61OkGu"
      }
    },
    {
      "cell_type": "code",
      "source": [
        "a = 33\n",
        "b = 200\n",
        "if b > a:\n",
        "  print(\"b is greater than a\")\n"
      ],
      "metadata": {
        "id": "MeAb89tlOOlQ"
      },
      "execution_count": null,
      "outputs": []
    },
    {
      "cell_type": "markdown",
      "source": [
        "## ***NOTICE THE INDENTATION!!!***"
      ],
      "metadata": {
        "id": "U5sO159_OqSM"
      }
    },
    {
      "cell_type": "markdown",
      "source": [
        "# Elif"
      ],
      "metadata": {
        "id": "SARL9pfpO0Lk"
      }
    },
    {
      "cell_type": "markdown",
      "source": [
        "The elif keyword is Python's way of saying \"if the previous conditions were not true, then try this condition\".\n",
        "\n"
      ],
      "metadata": {
        "id": "hVUz-QlaO1zZ"
      }
    },
    {
      "cell_type": "code",
      "source": [
        "a = 33\n",
        "b = 33\n",
        "if b > a:\n",
        "  print(\"b is greater than a\")\n",
        "elif a == b:\n",
        "  print(\"a and b are equal\")\n"
      ],
      "metadata": {
        "id": "Fd3W53exOnmU"
      },
      "execution_count": null,
      "outputs": []
    },
    {
      "cell_type": "markdown",
      "source": [
        "# Else"
      ],
      "metadata": {
        "id": "o6QGGJ8gPBz3"
      }
    },
    {
      "cell_type": "markdown",
      "source": [
        "The else keyword catches anything which isn't caught by the preceding conditions.\n",
        "\n"
      ],
      "metadata": {
        "id": "AgsF2dcdPEHj"
      }
    },
    {
      "cell_type": "code",
      "source": [
        "a = 200\n",
        "b = 33\n",
        "if b > a:\n",
        "  print(\"b is greater than a\")\n",
        "elif a == b:\n",
        "  print(\"a and b are equal\")\n",
        "else:\n",
        "  print(\"a is greater than b\")\n"
      ],
      "metadata": {
        "id": "yRRivp9OPBAk"
      },
      "execution_count": null,
      "outputs": []
    },
    {
      "cell_type": "markdown",
      "source": [
        "# And"
      ],
      "metadata": {
        "id": "ZSycs6BDPO5R"
      }
    },
    {
      "cell_type": "markdown",
      "source": [
        "The and keyword is a logical operator, and is used to combine conditional statements:\n",
        "\n"
      ],
      "metadata": {
        "id": "N05avIF1PSIM"
      }
    },
    {
      "cell_type": "code",
      "source": [
        "a = 200\n",
        "b = 33\n",
        "c = 500\n",
        "if a > b and c > a:\n",
        "  print(\"Both conditions are True\")\n"
      ],
      "metadata": {
        "id": "8DmRlgfLO6Op"
      },
      "execution_count": null,
      "outputs": []
    },
    {
      "cell_type": "markdown",
      "source": [
        "# Or"
      ],
      "metadata": {
        "id": "ZX2yNAtLPYAi"
      }
    },
    {
      "cell_type": "markdown",
      "source": [
        "The or keyword is a logical operator, and is used to combine conditional statements:\n",
        "\n"
      ],
      "metadata": {
        "id": "T77VywMLPaBS"
      }
    },
    {
      "cell_type": "code",
      "source": [
        "a = 200\n",
        "b = 33\n",
        "c = 500\n",
        "if a > b or a > c:\n",
        "  print(\"At least one of the conditions is True\")\n"
      ],
      "metadata": {
        "id": "aHfHox3oPXVy"
      },
      "execution_count": null,
      "outputs": []
    },
    {
      "cell_type": "markdown",
      "source": [
        "# Not\n"
      ],
      "metadata": {
        "id": "JPDxxgb0Phwl"
      }
    },
    {
      "cell_type": "markdown",
      "source": [
        "The not keyword is a logical operator, and is used to reverse the result of the conditional statement:\n",
        "\n"
      ],
      "metadata": {
        "id": "CM9hiuKEPjAE"
      }
    },
    {
      "cell_type": "code",
      "source": [
        "a = 33\n",
        "b = 200\n",
        "if not a > b:\n",
        "  print(\"a is NOT greater than b\")\n"
      ],
      "metadata": {
        "id": "rV_i7X-aPUv5"
      },
      "execution_count": null,
      "outputs": []
    },
    {
      "cell_type": "markdown",
      "source": [
        "# Python Loops\n"
      ],
      "metadata": {
        "id": "bBNZbSnsPu9K"
      }
    },
    {
      "cell_type": "markdown",
      "source": [
        "Python has two primitive loop commands:\n",
        "\n",
        "\n",
        "while loops\n",
        "\n",
        "for loops\n"
      ],
      "metadata": {
        "id": "9ZE1Ex3ePykD"
      }
    },
    {
      "cell_type": "markdown",
      "source": [
        "## The while Loop\n"
      ],
      "metadata": {
        "id": "g2vCN1ovP2Q2"
      }
    },
    {
      "cell_type": "markdown",
      "source": [
        "With the while loop we can execute a set of statements as long as a condition is true.\n",
        "\n"
      ],
      "metadata": {
        "id": "c741b9rpP3rp"
      }
    },
    {
      "cell_type": "code",
      "source": [
        "i = 1\n",
        "while i < 6:\n",
        "  print(i)\n",
        "  i = i + 1\n"
      ],
      "metadata": {
        "id": "1lruEXigPmPv"
      },
      "execution_count": null,
      "outputs": []
    },
    {
      "cell_type": "markdown",
      "source": [
        "# The break Statement\n"
      ],
      "metadata": {
        "id": "3ab4lFiJQDNG"
      }
    },
    {
      "cell_type": "markdown",
      "source": [
        "With the break statement we can stop the loop even if the while condition is true:\n",
        "\n"
      ],
      "metadata": {
        "id": "aj5xacVDQEcT"
      }
    },
    {
      "cell_type": "code",
      "source": [
        "i = 1\n",
        "while i < 6:\n",
        "  print(i)\n",
        "  if i == 3:\n",
        "    break\n",
        "  i += 1 # same as i = i + 1"
      ],
      "metadata": {
        "id": "nfodHLSWP7Gh"
      },
      "execution_count": null,
      "outputs": []
    },
    {
      "cell_type": "markdown",
      "source": [
        "# The else Statement\n"
      ],
      "metadata": {
        "id": "UoKvl3jQQRgh"
      }
    },
    {
      "cell_type": "markdown",
      "source": [
        "With the else statement we can run a block of code once when the condition no longer is true:\n",
        "\n"
      ],
      "metadata": {
        "id": "BWwdXd1GQSsk"
      }
    },
    {
      "cell_type": "code",
      "source": [
        "i = 1\n",
        "while i < 6:\n",
        "  print(i)\n",
        "  i += 1\n",
        "else:\n",
        "  print(\"i is no longer less than 6\")\n"
      ],
      "metadata": {
        "id": "Ivac9TAyQL1i"
      },
      "execution_count": null,
      "outputs": []
    },
    {
      "cell_type": "markdown",
      "source": [
        "# Python For Loops\n"
      ],
      "metadata": {
        "id": "WwQfniF0QYUT"
      }
    },
    {
      "cell_type": "markdown",
      "source": [
        "A for loop is used for iterating over a sequence (that is either a list, a tuple, a dictionary, a set, or a string).\n",
        "\n"
      ],
      "metadata": {
        "id": "kT4ZeCrQQcBk"
      }
    },
    {
      "cell_type": "code",
      "source": [
        "fruits = [\"apple\", \"banana\", \"cherry\"]\n",
        "for x in fruits:\n",
        "  print(x)\n"
      ],
      "metadata": {
        "id": "o8s2LSPtQVJV"
      },
      "execution_count": null,
      "outputs": []
    },
    {
      "cell_type": "markdown",
      "source": [
        "# Looping Through a String\n"
      ],
      "metadata": {
        "id": "M-NCa0LuQhOj"
      }
    },
    {
      "cell_type": "markdown",
      "source": [
        "Even strings are iterable objects, they contain a sequence of characters:\n",
        "\n"
      ],
      "metadata": {
        "id": "Gn6KReGtQksS"
      }
    },
    {
      "cell_type": "code",
      "source": [
        "for x in \"banana\":\n",
        "  print(x)\n"
      ],
      "metadata": {
        "id": "qOnNnjosQeKJ"
      },
      "execution_count": null,
      "outputs": []
    },
    {
      "cell_type": "code",
      "source": [],
      "metadata": {
        "id": "5yzzVwl6QmlE"
      },
      "execution_count": null,
      "outputs": []
    }
  ]
}